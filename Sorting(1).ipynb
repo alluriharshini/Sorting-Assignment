{
 "cells": [
  {
   "cell_type": "markdown",
   "id": "cb1367a9-8a21-4f25-97f2-28fc160f5836",
   "metadata": {},
   "source": [
    "Problem 1.Given an array of n numbers, give an algorithm which gives the element appearing maximum\n",
    "number of times?"
   ]
  },
  {
   "cell_type": "code",
   "execution_count": 1,
   "id": "2ac01e4d-673e-4720-9c9b-8246bcf44797",
   "metadata": {},
   "outputs": [
    {
     "name": "stdout",
     "output_type": "stream",
     "text": [
      "The element appearing most frequently is: 2\n"
     ]
    }
   ],
   "source": [
    "def find_most_frequent_element_recursive(arr, frequency_dict=None, max_frequency_element=None, current_index=0):\n",
    "\n",
    "    if current_index == len(arr):\n",
    "        return max_frequency_element\n",
    "\n",
    "    if frequency_dict is None:\n",
    "        frequency_dict = {}\n",
    "        max_frequency_element = arr[0]\n",
    "\n",
    "    current_element = arr[current_index]\n",
    "    frequency_dict[current_element] = frequency_dict.get(current_element, 0) + 1\n",
    "\n",
    "    if frequency_dict[current_element] > frequency_dict[max_frequency_element]:\n",
    "        max_frequency_element = current_element\n",
    "\n",
    "    return find_most_frequent_element_recursive(arr, frequency_dict, max_frequency_element, current_index + 1)\n",
    "\n",
    "numbers = [1, 2, 3, 4, 2, 2, 3, 1, 5, 2, 4, 2, 2]\n",
    "result = find_most_frequent_element_recursive(numbers)\n",
    "print(f\"The element appearing most frequently is: {result}\")\n"
   ]
  },
  {
   "cell_type": "markdown",
   "id": "7d211c5d-2cb0-43fc-9622-e61066b16828",
   "metadata": {},
   "source": [
    "Problem 2 : We are given a list of n-1 integers and these integers are in the range of 1 to n . There are no\n",
    "duplicates in the list. One of the integers is missing in the list. Give an algorithm to find that element Ex:\n",
    "[1,2,4,6,3,7,8] 5 is the missing num."
   ]
  },
  {
   "cell_type": "code",
   "execution_count": 10,
   "id": "32a6306d-9d8a-4274-97d3-669bfd71689c",
   "metadata": {},
   "outputs": [
    {
     "name": "stdout",
     "output_type": "stream",
     "text": [
      "The missing number is: 1\n"
     ]
    }
   ],
   "source": [
    "def find_missing_number(nums):\n",
    "    n = len(nums) + 1  # Since there is one missing number\n",
    "    expected_sum = n * (n + 1) // 2\n",
    "    actual_sum = sum(nums)\n",
    "    missing_number = expected_sum - actual_sum\n",
    "    return missing_number\n",
    "\n",
    "# Example usage:\n",
    "nums = [9, 2, 3,4,5,6, 7, 8,10]\n",
    "missing_number = find_missing_number(nums)\n",
    "print(f\"The missing number is: {missing_number}\")\n"
   ]
  },
  {
   "cell_type": "markdown",
   "id": "303ae910-bc1d-4cfa-8dcb-484f348d1acc",
   "metadata": {},
   "source": [
    "Problem 3 : Given an array of n positive numbers. All numbers occurs even number of times except 1 which\n",
    "occurs odd number of times. Find that number in O(n) time and O(1) space. Ex: [1,2,3,2,3,1,3]. 3 is repeats odd\n",
    "times."
   ]
  },
  {
   "cell_type": "code",
   "execution_count": 17,
   "id": "4b9aa2a6-c97d-4cee-8db9-8aa7b427c128",
   "metadata": {},
   "outputs": [
    {
     "name": "stdout",
     "output_type": "stream",
     "text": [
      "The number occurring odd number of times is: 8\n"
     ]
    }
   ],
   "source": [
    "def find_odd_occurrence(nums):\n",
    "    result = 0\n",
    "    for num in nums:\n",
    "        result ^= num\n",
    "        #^: Bitwise XOR operator.\n",
    "    return result\n",
    "\n",
    "# Example usage:\n",
    "nums = [1, 2, 3,3, 2, 3, 1, 3,8,8,8]\n",
    "odd_occurrence_number = find_odd_occurrence(nums)\n",
    "print(f\"The number occurring odd number of times is: {odd_occurrence_number}\")\n"
   ]
  },
  {
   "cell_type": "markdown",
   "id": "64f8eece-b33c-478f-a730-43d214546ee9",
   "metadata": {},
   "source": [
    "Problem 4 : Given an array of n elements. Find two elements in the array such that their sum is equal to given\n",
    "element K."
   ]
  },
  {
   "cell_type": "code",
   "execution_count": 21,
   "id": "3d5f9762-9579-4dd6-baaa-38aa1459d770",
   "metadata": {},
   "outputs": [
    {
     "name": "stdout",
     "output_type": "stream",
     "text": [
      "Pair with sum 12: [4, 8]\n"
     ]
    }
   ],
   "source": [
    "def find_pair_with_sum(nums, target_sum):\n",
    "    num_set = set()\n",
    "\n",
    "    for num in nums:\n",
    "        complement = target_sum - num\n",
    "        if complement in num_set:\n",
    "            return [complement, num]\n",
    "        num_set.add(num)\n",
    "\n",
    "    return None  # If no such pair is found\n",
    "\n",
    "\n",
    "nums = [1, 2, 4, 6, 8, 10]\n",
    "target_sum = 12\n",
    "\n",
    "result = find_pair_with_sum(nums, target_sum)\n",
    "\n",
    "if result:\n",
    "    print(f\"Pair with sum {target_sum}: {result}\")\n",
    "else:\n",
    "    print(f\"No pair found with sum {target_sum}\")\n"
   ]
  },
  {
   "cell_type": "markdown",
   "id": "40d66697-705c-4902-8d9f-70b4a8b0b688",
   "metadata": {},
   "source": [
    "Problem 5 : Given an array of both positive and negative numbers, find two numbers such that their sum is\n",
    "closest to 0. Ex: [ 1 ,60 ,-10, 70, -80,85]. Ans : -80,85."
   ]
  },
  {
   "cell_type": "code",
   "execution_count": 29,
   "id": "d711c2ad-08c7-468e-9750-1af028fe9911",
   "metadata": {},
   "outputs": [
    {
     "name": "stdout",
     "output_type": "stream",
     "text": [
      "The pair with the sum closest to 0: [-10, 1]\n"
     ]
    }
   ],
   "source": [
    "def find_closest_sum_pair(nums):\n",
    "    # Sort the array\n",
    "    nums.sort()\n",
    "\n",
    "    # Initialize variables to track the closest pair and its sum\n",
    "    closest_pair = [nums[0], nums[1]]\n",
    "    closest_sum = nums[0] + nums[1]\n",
    "\n",
    "    # Iterate through the array to find the closest pair\n",
    "    for i in range(len(nums) - 1):\n",
    "        current_sum = nums[i] + nums[i + 1]\n",
    "        if abs(current_sum) < abs(closest_sum):\n",
    "            closest_sum = current_sum\n",
    "            closest_pair = [nums[i], nums[i + 1]]\n",
    "\n",
    "    return closest_pair\n",
    "\n",
    "# Example usage:\n",
    "nums = [1, 60, -10, 70, -80, 85]\n",
    "result = find_closest_sum_pair(nums)\n",
    "print(f\"The pair with the sum closest to 0: {result}\")\n"
   ]
  },
  {
   "cell_type": "markdown",
   "id": "21a74fec-4d74-4232-bbd1-81bc8a7c11b0",
   "metadata": {},
   "source": [
    "Problem 6 : Given an array of n elements . Find three elements such that their sum is equal to the given\n",
    "number."
   ]
  },
  {
   "cell_type": "code",
   "execution_count": 32,
   "id": "a8f29238-b134-4a0d-b703-4a9939a34944",
   "metadata": {},
   "outputs": [
    {
     "name": "stdout",
     "output_type": "stream",
     "text": [
      "The triplet with sum 10: [1, 3, 6]\n"
     ]
    }
   ],
   "source": [
    "def find_three_elements_with_sum(nums, target_sum):\n",
    "    nums.sort()\n",
    "\n",
    "    for i in range(len(nums) - 2):\n",
    "        left = i + 1\n",
    "        right = len(nums) - 1\n",
    "\n",
    "        while left < right:\n",
    "            current_sum = nums[i] + nums[left] + nums[right]\n",
    "\n",
    "            if current_sum == target_sum:\n",
    "                return [nums[i], nums[left], nums[right]]\n",
    "            elif current_sum < target_sum:\n",
    "                left += 1\n",
    "            else:\n",
    "                right -= 1\n",
    "\n",
    "    return None  # If no such triplet is found\n",
    "\n",
    "\n",
    "nums = [1, 4, 2, 8, 3, 9, 5, 6]\n",
    "target_sum = 10\n",
    "\n",
    "result = find_three_elements_with_sum(nums, target_sum)\n",
    "\n",
    "if result:\n",
    "    print(f\"The triplet with sum {target_sum}: {result}\")\n",
    "else:\n",
    "    print(f\"No triplet found with sum {target_sum}\")\n"
   ]
  },
  {
   "cell_type": "markdown",
   "id": "72ae2d4f-f103-4e26-94b7-3115a0da6e44",
   "metadata": {},
   "source": [
    "Problem 7 : Given an array of n elements . Find three elements i, j, k in the array such that\n",
    "i * i + j * j = k*k."
   ]
  },
  {
   "cell_type": "code",
   "execution_count": 34,
   "id": "d2853f7a-761b-4db5-9f10-e57f77f4c3d9",
   "metadata": {},
   "outputs": [
    {
     "name": "stdout",
     "output_type": "stream",
     "text": [
      "The Pythagorean triplet is: [3, 4, 5]\n"
     ]
    }
   ],
   "source": [
    "def find_pythagorean_triplet(nums):\n",
    "    nums_set = set(x * x for x in nums)  \n",
    "\n",
    "    for i in range(len(nums) - 1):\n",
    "        for j in range(i + 1, len(nums)):\n",
    "            sum_of_squares = nums[i] * nums[i] + nums[j] * nums[j]\n",
    "\n",
    "            if sum_of_squares in nums_set:\n",
    "                return [nums[i], nums[j], int(sum_of_squares ** 0.5)]\n",
    "\n",
    "    return None  # If no such triplet is found\n",
    "\n",
    "nums = [3, 1, 4, 6, 5]\n",
    "result = find_pythagorean_triplet(nums)\n",
    "\n",
    "if result:\n",
    "    print(f\"The Pythagorean triplet is: {result}\")\n",
    "else:\n",
    "    print(\"No Pythagorean triplet found\")\n"
   ]
  },
  {
   "cell_type": "markdown",
   "id": "0bde38a7-10c7-4c76-be51-55ba872762d0",
   "metadata": {},
   "source": [
    "Problem 8 : An element is a majority if it appears more than n/2 times. Give an algorithm takes an array of n\n",
    "element as argument and identifies a majority (if it exists)."
   ]
  },
  {
   "cell_type": "code",
   "execution_count": 40,
   "id": "e15aa308-a34f-4ab7-905c-119867995dd1",
   "metadata": {},
   "outputs": [
    {
     "name": "stdout",
     "output_type": "stream",
     "text": [
      "The majority element is: 4\n"
     ]
    }
   ],
   "source": [
    "def find_majority_element(nums):\n",
    "    candidate = None\n",
    "    count = 0\n",
    "\n",
    "    for num in nums:\n",
    "        if count == 0:\n",
    "            candidate = num\n",
    "            count = 1\n",
    "        elif num == candidate:\n",
    "            count += 1\n",
    "        else:\n",
    "            count -= 1\n",
    "\n",
    "    # Verify if the candidate is a majority element\n",
    "    count = 0\n",
    "    for num in nums:\n",
    "        if num == candidate:\n",
    "            count += 1\n",
    "\n",
    "    if count > len(nums) // 2:\n",
    "        return candidate\n",
    "    else:\n",
    "        return None  # No majority element found\n",
    "\n",
    "\n",
    "nums = [3, 3, 4, 2, 4, 4, 2, 4, 4]\n",
    "result = find_majority_element(nums)\n",
    "\n",
    "if result is not None:\n",
    "    print(f\"The majority element is: {result}\")\n",
    "else:\n",
    "    print(\"No majority element found\")\n"
   ]
  },
  {
   "cell_type": "markdown",
   "id": "48d0266e-8557-4190-9ccb-eaabea12a7ba",
   "metadata": {},
   "source": [
    "Problem 9 : Given n × n matrix, and in each row all 1’s are followed by 0’s. Find the row with the maximum\n",
    "number of 0’s."
   ]
  },
  {
   "cell_type": "code",
   "execution_count": 37,
   "id": "de5c0564-df87-44d7-be11-7805f2d71c5d",
   "metadata": {},
   "outputs": [
    {
     "name": "stdout",
     "output_type": "stream",
     "text": [
      "The row with the maximum number of zeros is: 0\n"
     ]
    }
   ],
   "source": [
    "def find_max_zeros_row(matrix):\n",
    "    max_zeros_row = 0\n",
    "    max_zeros_count = 0\n",
    "\n",
    "    n = len(matrix)\n",
    "\n",
    "    for i in range(n):\n",
    "        zeros_count = count_zeros(matrix[i])\n",
    "        \n",
    "        if zeros_count > max_zeros_count:\n",
    "            max_zeros_row = i\n",
    "            max_zeros_count = zeros_count\n",
    "\n",
    "    return max_zeros_row\n",
    "\n",
    "def count_zeros(row):\n",
    "    left, right = 0, len(row) - 1\n",
    "\n",
    "    while left <= right:\n",
    "        mid = (left + right) // 2\n",
    "\n",
    "        if row[mid] == 1:\n",
    "            right = mid - 1\n",
    "        else:\n",
    "            left = mid + 1\n",
    "\n",
    "    return len(row) - left\n",
    "\n",
    "\n",
    "matrix = [\n",
    "    [1, 1, 1, 0],\n",
    "    [1, 1, 0, 0],\n",
    "    [1, 0, 0, 0],\n",
    "    [1, 1, 1, 1]\n",
    "]\n",
    "\n",
    "result = find_max_zeros_row(matrix)\n",
    "print(f\"The row with the maximum number of zeros is: {result}\")\n"
   ]
  },
  {
   "cell_type": "markdown",
   "id": "14fec5f5-051e-4ebb-b752-e12e2ae2938b",
   "metadata": {},
   "source": [
    "Problem 10 : Sort an array of 0’s, 1’s and 2’s [or R’s, G’s and B’s]: Given an array A[] consisting of 0’s, 1’s and\n",
    "2’s, give an algorithm for sorting A[].The algorithm should put all 0’s first, then all 1’s and finally all 2’s at the\n",
    "end. Example Input = {0,1,1,0,1,2,1,2,0,0,0,1}, Output = {0,0,0,0,0,1,1,1,1,1,2,2}"
   ]
  },
  {
   "cell_type": "code",
   "execution_count": 39,
   "id": "1ed10423-21d4-49cf-8fd8-ef75f29019c0",
   "metadata": {},
   "outputs": [
    {
     "name": "stdout",
     "output_type": "stream",
     "text": [
      "Sorted array: [0, 0, 0, 0, 0, 1, 1, 1, 1, 1, 2, 2]\n"
     ]
    }
   ],
   "source": [
    "def sort_colors(nums):\n",
    "    low, mid, high = 0, 0, len(nums) - 1\n",
    "\n",
    "    while mid <= high:\n",
    "        if nums[mid] == 0:\n",
    "            nums[low], nums[mid] = nums[mid], nums[low]\n",
    "            low += 1\n",
    "            mid += 1\n",
    "        elif nums[mid] == 1:\n",
    "            mid += 1\n",
    "        else:\n",
    "            nums[mid], nums[high] = nums[high], nums[mid]\n",
    "            high -= 1\n",
    "\n",
    "nums = [0, 1, 1, 0, 1, 2, 1, 2, 0, 0, 0, 1]\n",
    "sort_colors(nums)\n",
    "print(\"Sorted array:\", nums)\n"
   ]
  },
  {
   "cell_type": "code",
   "execution_count": null,
   "id": "b805619f-2ae2-4e58-880f-c0af870b9974",
   "metadata": {},
   "outputs": [],
   "source": []
  }
 ],
 "metadata": {
  "kernelspec": {
   "display_name": "Python 3 (ipykernel)",
   "language": "python",
   "name": "python3"
  },
  "language_info": {
   "codemirror_mode": {
    "name": "ipython",
    "version": 3
   },
   "file_extension": ".py",
   "mimetype": "text/x-python",
   "name": "python",
   "nbconvert_exporter": "python",
   "pygments_lexer": "ipython3",
   "version": "3.10.8"
  }
 },
 "nbformat": 4,
 "nbformat_minor": 5
}
